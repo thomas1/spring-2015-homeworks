{
 "metadata": {
  "name": "",
  "signature": "sha256:d4287cb4c6ff42193e165cb4b6a99ecc81e4dfce9e3d2f23079851a8b76c5849"
 },
 "nbformat": 3,
 "nbformat_minor": 0,
 "worksheets": [
  {
   "cells": [
    {
     "cell_type": "markdown",
     "metadata": {},
     "source": [
      "(In order to load the stylesheet of this notebook, execute the last code cell in this notebook)"
     ]
    },
    {
     "cell_type": "heading",
     "level": 1,
     "metadata": {},
     "source": [
      "Analyzing hotel ratings on Tripadvisor"
     ]
    },
    {
     "cell_type": "markdown",
     "metadata": {},
     "source": [
      "In this homework we will focus on practicing two techniques: web scraping and regression. For the first part, we will build upon the sample code from the Lecture and attempt to get some basic information for each hotel. Then, we will fit a regression model on this information and try to analyze it.   "
     ]
    },
    {
     "cell_type": "markdown",
     "metadata": {},
     "source": [
      "One of the main disadvantages of scraping a website instead of using an API is that, without any notice, the website may change its layout and render our code useless. Something like that happened in our case. Tripadvisor changed the layout of the buttons that we use to navigate between the different pages of the results. This was the main reason people were having problem with executing the code."
     ]
    },
    {
     "cell_type": "markdown",
     "metadata": {},
     "source": [
      "**Task 1 (20 pts)**\n",
      "\n",
      "The first task of the homework is to fix the scraping code. We basically need to replace the part where we are checking if there is another page and getting its link with new code that reflects the new navigation layout. "
     ]
    },
    {
     "cell_type": "markdown",
     "metadata": {},
     "source": [
      "** Task 2 (30 pts)**\n",
      "\n",
      "Then, for each hotel that our search returns, we will \"click\" (with the code of course) on it and scrape the information below.\n",
      "\n",
      "![Information to be scraped](hotel_info.png)\n",
      "\n",
      "Of course, feel free to collect even more data if you want. "
     ]
    },
    {
     "cell_type": "markdown",
     "metadata": {},
     "source": [
      "** Task 3 (20 pts) **\n",
      "\n",
      "Now, we will use regression to analyze this information. First, we will fit a linear regression model that predicts the average rating. For example, for the hotel above, the average rating is\n",
      "\n",
      "$$ \\text{AVG_SCORE} = \\frac{1*31 + 2*33 + 3*98 + 4*504 + 5*1861}{2527}$$\n",
      "\n",
      "Use the model to analyze the important factors that decide the $\\text{AVG_SCORE}$."
     ]
    },
    {
     "cell_type": "markdown",
     "metadata": {},
     "source": [
      "** Task 4 (30 pts) **\n",
      "\n",
      "Finally, we will use logistic regression to decide if a hotel is _excellent_ or not. We classify a hotel as _excellent_ if more than **60%** of its ratings are 5 stars. This is a binary attribute on which we can fit a logistic regression model. As before, use the model to analyze the data.\n",
      "\n",
      "-------"
     ]
    },
    {
     "cell_type": "markdown",
     "metadata": {},
     "source": [
      "In order to use code from a Python script file, we need to put that file in the same folder as the notebook and import it as a library. Then, we will be able to access it's functions. For example, in the case of the lecture code, we could do the following:\n",
      "\n",
      "``` python\n",
      "import scrape_solution as scrape\n",
      "\n",
      "scrape.get_city_page()\n",
      "```\n",
      "\n",
      "Of course, you might need to modify and restructure the code so that it returns what you need."
     ]
    },
    {
     "cell_type": "markdown",
     "metadata": {},
     "source": [
      "----"
     ]
    },
    {
     "cell_type": "code",
     "collapsed": false,
     "input": [
      "import scrape_solution as scrape\n",
      "reload(scrape)"
     ],
     "language": "python",
     "metadata": {},
     "outputs": [
      {
       "metadata": {},
       "output_type": "pyout",
       "prompt_number": 113,
       "text": [
        "<module 'scrape_solution' from 'scrape_solution.pyc'>"
       ]
      }
     ],
     "prompt_number": 113
    },
    {
     "cell_type": "code",
     "collapsed": false,
     "input": [
      "boston_url = get_city_page(\"BOSTON\", \"MA\", datadir='data/')\n",
      "html = get_hotellist_page(boston_url, \"1\", \"BOSTON\", datadir='data/')\n",
      "parse_hotellist_page(html)\n"
     ],
     "language": "python",
     "metadata": {},
     "outputs": [
      {
       "output_type": "stream",
       "stream": "stderr",
       "text": [
        "[2015-04-06 20:56:28,762] #################################### Option 2 ######################################\n"
       ]
      },
      {
       "output_type": "stream",
       "stream": "stderr",
       "text": [
        "[2015-04-06 20:56:28,762] #################################### Option 2 ######################################\n"
       ]
      },
      {
       "output_type": "stream",
       "stream": "stderr",
       "text": [
        "[2015-04-06 20:56:28,762] #################################### Option 2 ######################################\n"
       ]
      },
      {
       "output_type": "stream",
       "stream": "stderr",
       "text": [
        "INFO:__main__:#################################### Option 2 ######################################\n"
       ]
      },
      {
       "output_type": "stream",
       "stream": "stderr",
       "text": [
        "[2015-04-06 20:56:28,829] #################################### Option 3 ######################################\n"
       ]
      },
      {
       "output_type": "stream",
       "stream": "stderr",
       "text": [
        "[2015-04-06 20:56:28,829] #################################### Option 3 ######################################\n"
       ]
      },
      {
       "output_type": "stream",
       "stream": "stderr",
       "text": [
        "[2015-04-06 20:56:28,829] #################################### Option 3 ######################################\n"
       ]
      },
      {
       "output_type": "stream",
       "stream": "stderr",
       "text": [
        "INFO:__main__:#################################### Option 3 ######################################\n"
       ]
      },
      {
       "output_type": "stream",
       "stream": "stderr",
       "text": [
        "[2015-04-06 20:56:28,914] Hotel name: Hyatt Boston Harbor\n"
       ]
      },
      {
       "output_type": "stream",
       "stream": "stderr",
       "text": [
        "[2015-04-06 20:56:28,914] Hotel name: Hyatt Boston Harbor\n"
       ]
      },
      {
       "output_type": "stream",
       "stream": "stderr",
       "text": [
        "[2015-04-06 20:56:28,914] Hotel name: Hyatt Boston Harbor\n"
       ]
      },
      {
       "output_type": "stream",
       "stream": "stderr",
       "text": [
        "INFO:__main__:Hotel name: Hyatt Boston Harbor\n"
       ]
      },
      {
       "output_type": "stream",
       "stream": "stderr",
       "text": [
        "[2015-04-06 20:56:28,918] Stars: 4\n"
       ]
      },
      {
       "output_type": "stream",
       "stream": "stderr",
       "text": [
        "[2015-04-06 20:56:28,918] Stars: 4\n"
       ]
      },
      {
       "output_type": "stream",
       "stream": "stderr",
       "text": [
        "[2015-04-06 20:56:28,918] Stars: 4\n"
       ]
      },
      {
       "output_type": "stream",
       "stream": "stderr",
       "text": [
        "INFO:__main__:Stars: 4\n"
       ]
      },
      {
       "output_type": "stream",
       "stream": "stderr",
       "text": [
        "[2015-04-06 20:56:28,920] Number of reviews: 1,171 reviews \n"
       ]
      },
      {
       "output_type": "stream",
       "stream": "stderr",
       "text": [
        "[2015-04-06 20:56:28,920] Number of reviews: 1,171 reviews \n"
       ]
      },
      {
       "output_type": "stream",
       "stream": "stderr",
       "text": [
        "[2015-04-06 20:56:28,920] Number of reviews: 1,171 reviews \n"
       ]
      },
      {
       "output_type": "stream",
       "stream": "stderr",
       "text": [
        "INFO:__main__:Number of reviews: 1,171 reviews \n"
       ]
      },
      {
       "output_type": "stream",
       "stream": "stderr",
       "text": [
        "[2015-04-06 20:56:28,921] Hotel name: Seaport Boston Hotel\n"
       ]
      },
      {
       "output_type": "stream",
       "stream": "stderr",
       "text": [
        "[2015-04-06 20:56:28,921] Hotel name: Seaport Boston Hotel\n"
       ]
      },
      {
       "output_type": "stream",
       "stream": "stderr",
       "text": [
        "[2015-04-06 20:56:28,921] Hotel name: Seaport Boston Hotel\n"
       ]
      },
      {
       "output_type": "stream",
       "stream": "stderr",
       "text": [
        "INFO:__main__:Hotel name: Seaport Boston Hotel\n"
       ]
      },
      {
       "output_type": "stream",
       "stream": "stderr",
       "text": [
        "[2015-04-06 20:56:28,921] Stars: 4.5\n"
       ]
      },
      {
       "output_type": "stream",
       "stream": "stderr",
       "text": [
        "[2015-04-06 20:56:28,921] Stars: 4.5\n"
       ]
      },
      {
       "output_type": "stream",
       "stream": "stderr",
       "text": [
        "[2015-04-06 20:56:28,921] Stars: 4.5\n"
       ]
      },
      {
       "output_type": "stream",
       "stream": "stderr",
       "text": [
        "INFO:__main__:Stars: 4.5\n"
       ]
      },
      {
       "output_type": "stream",
       "stream": "stderr",
       "text": [
        "[2015-04-06 20:56:28,923] Number of reviews: 2,551 reviews \n"
       ]
      },
      {
       "output_type": "stream",
       "stream": "stderr",
       "text": [
        "[2015-04-06 20:56:28,923] Number of reviews: 2,551 reviews \n"
       ]
      },
      {
       "output_type": "stream",
       "stream": "stderr",
       "text": [
        "[2015-04-06 20:56:28,923] Number of reviews: 2,551 reviews \n"
       ]
      },
      {
       "output_type": "stream",
       "stream": "stderr",
       "text": [
        "INFO:__main__:Number of reviews: 2,551 reviews \n"
       ]
      },
      {
       "output_type": "stream",
       "stream": "stderr",
       "text": [
        "[2015-04-06 20:56:28,924] Hotel name: Hotel Commonwealth\n"
       ]
      },
      {
       "output_type": "stream",
       "stream": "stderr",
       "text": [
        "[2015-04-06 20:56:28,924] Hotel name: Hotel Commonwealth\n"
       ]
      },
      {
       "output_type": "stream",
       "stream": "stderr",
       "text": [
        "[2015-04-06 20:56:28,924] Hotel name: Hotel Commonwealth\n"
       ]
      },
      {
       "output_type": "stream",
       "stream": "stderr",
       "text": [
        "INFO:__main__:Hotel name: Hotel Commonwealth\n"
       ]
      },
      {
       "output_type": "stream",
       "stream": "stderr",
       "text": [
        "[2015-04-06 20:56:28,924] Stars: 4.5\n"
       ]
      },
      {
       "output_type": "stream",
       "stream": "stderr",
       "text": [
        "[2015-04-06 20:56:28,924] Stars: 4.5\n"
       ]
      },
      {
       "output_type": "stream",
       "stream": "stderr",
       "text": [
        "[2015-04-06 20:56:28,924] Stars: 4.5\n"
       ]
      },
      {
       "output_type": "stream",
       "stream": "stderr",
       "text": [
        "INFO:__main__:Stars: 4.5\n"
       ]
      },
      {
       "output_type": "stream",
       "stream": "stderr",
       "text": [
        "[2015-04-06 20:56:28,927] Number of reviews: 2,947 reviews \n"
       ]
      },
      {
       "output_type": "stream",
       "stream": "stderr",
       "text": [
        "[2015-04-06 20:56:28,927] Number of reviews: 2,947 reviews \n"
       ]
      },
      {
       "output_type": "stream",
       "stream": "stderr",
       "text": [
        "[2015-04-06 20:56:28,927] Number of reviews: 2,947 reviews \n"
       ]
      },
      {
       "output_type": "stream",
       "stream": "stderr",
       "text": [
        "INFO:__main__:Number of reviews: 2,947 reviews \n"
       ]
      },
      {
       "output_type": "stream",
       "stream": "stderr",
       "text": [
        "[2015-04-06 20:56:28,927] Hotel name: Boston Harbor Hotel\n"
       ]
      },
      {
       "output_type": "stream",
       "stream": "stderr",
       "text": [
        "[2015-04-06 20:56:28,927] Hotel name: Boston Harbor Hotel\n"
       ]
      },
      {
       "output_type": "stream",
       "stream": "stderr",
       "text": [
        "[2015-04-06 20:56:28,927] Hotel name: Boston Harbor Hotel\n"
       ]
      },
      {
       "output_type": "stream",
       "stream": "stderr",
       "text": [
        "INFO:__main__:Hotel name: Boston Harbor Hotel\n"
       ]
      },
      {
       "output_type": "stream",
       "stream": "stderr",
       "text": [
        "[2015-04-06 20:56:28,928] Stars: 4.5\n"
       ]
      },
      {
       "output_type": "stream",
       "stream": "stderr",
       "text": [
        "[2015-04-06 20:56:28,928] Stars: 4.5\n"
       ]
      },
      {
       "output_type": "stream",
       "stream": "stderr",
       "text": [
        "[2015-04-06 20:56:28,928] Stars: 4.5\n"
       ]
      },
      {
       "output_type": "stream",
       "stream": "stderr",
       "text": [
        "INFO:__main__:Stars: 4.5\n"
       ]
      },
      {
       "output_type": "stream",
       "stream": "stderr",
       "text": [
        "[2015-04-06 20:56:28,930] Number of reviews: 1,250 reviews \n"
       ]
      },
      {
       "output_type": "stream",
       "stream": "stderr",
       "text": [
        "[2015-04-06 20:56:28,930] Number of reviews: 1,250 reviews \n"
       ]
      },
      {
       "output_type": "stream",
       "stream": "stderr",
       "text": [
        "[2015-04-06 20:56:28,930] Number of reviews: 1,250 reviews \n"
       ]
      },
      {
       "output_type": "stream",
       "stream": "stderr",
       "text": [
        "INFO:__main__:Number of reviews: 1,250 reviews \n"
       ]
      },
      {
       "output_type": "stream",
       "stream": "stderr",
       "text": [
        "[2015-04-06 20:56:28,930] Hotel name: enVision Hotel Boston\n"
       ]
      },
      {
       "output_type": "stream",
       "stream": "stderr",
       "text": [
        "[2015-04-06 20:56:28,930] Hotel name: enVision Hotel Boston\n"
       ]
      },
      {
       "output_type": "stream",
       "stream": "stderr",
       "text": [
        "[2015-04-06 20:56:28,930] Hotel name: enVision Hotel Boston\n"
       ]
      },
      {
       "output_type": "stream",
       "stream": "stderr",
       "text": [
        "INFO:__main__:Hotel name: enVision Hotel Boston\n"
       ]
      },
      {
       "output_type": "stream",
       "stream": "stderr",
       "text": [
        "[2015-04-06 20:56:28,931] Stars: 4.5\n"
       ]
      },
      {
       "output_type": "stream",
       "stream": "stderr",
       "text": [
        "[2015-04-06 20:56:28,931] Stars: 4.5\n"
       ]
      },
      {
       "output_type": "stream",
       "stream": "stderr",
       "text": [
        "[2015-04-06 20:56:28,931] Stars: 4.5\n"
       ]
      },
      {
       "output_type": "stream",
       "stream": "stderr",
       "text": [
        "INFO:__main__:Stars: 4.5\n"
       ]
      },
      {
       "output_type": "stream",
       "stream": "stderr",
       "text": [
        "[2015-04-06 20:56:28,933] Number of reviews: 360 reviews \n"
       ]
      },
      {
       "output_type": "stream",
       "stream": "stderr",
       "text": [
        "[2015-04-06 20:56:28,933] Number of reviews: 360 reviews \n"
       ]
      },
      {
       "output_type": "stream",
       "stream": "stderr",
       "text": [
        "[2015-04-06 20:56:28,933] Number of reviews: 360 reviews \n"
       ]
      },
      {
       "output_type": "stream",
       "stream": "stderr",
       "text": [
        "INFO:__main__:Number of reviews: 360 reviews \n"
       ]
      },
      {
       "output_type": "stream",
       "stream": "stderr",
       "text": [
        "[2015-04-06 20:56:28,934] Hotel name: Revere Hotel Boston Common\n"
       ]
      },
      {
       "output_type": "stream",
       "stream": "stderr",
       "text": [
        "[2015-04-06 20:56:28,934] Hotel name: Revere Hotel Boston Common\n"
       ]
      },
      {
       "output_type": "stream",
       "stream": "stderr",
       "text": [
        "[2015-04-06 20:56:28,934] Hotel name: Revere Hotel Boston Common\n"
       ]
      },
      {
       "output_type": "stream",
       "stream": "stderr",
       "text": [
        "INFO:__main__:Hotel name: Revere Hotel Boston Common\n"
       ]
      },
      {
       "output_type": "stream",
       "stream": "stderr",
       "text": [
        "[2015-04-06 20:56:28,934] Stars: 4.5\n"
       ]
      },
      {
       "output_type": "stream",
       "stream": "stderr",
       "text": [
        "[2015-04-06 20:56:28,934] Stars: 4.5\n"
       ]
      },
      {
       "output_type": "stream",
       "stream": "stderr",
       "text": [
        "[2015-04-06 20:56:28,934] Stars: 4.5\n"
       ]
      },
      {
       "output_type": "stream",
       "stream": "stderr",
       "text": [
        "INFO:__main__:Stars: 4.5\n"
       ]
      },
      {
       "output_type": "stream",
       "stream": "stderr",
       "text": [
        "[2015-04-06 20:56:28,936] Number of reviews: 1,950 reviews \n"
       ]
      },
      {
       "output_type": "stream",
       "stream": "stderr",
       "text": [
        "[2015-04-06 20:56:28,936] Number of reviews: 1,950 reviews \n"
       ]
      },
      {
       "output_type": "stream",
       "stream": "stderr",
       "text": [
        "[2015-04-06 20:56:28,936] Number of reviews: 1,950 reviews \n"
       ]
      },
      {
       "output_type": "stream",
       "stream": "stderr",
       "text": [
        "INFO:__main__:Number of reviews: 1,950 reviews \n"
       ]
      },
      {
       "output_type": "stream",
       "stream": "stderr",
       "text": [
        "[2015-04-06 20:56:28,937] Hotel name: Nine Zero Hotel - a Kimpton Hotel\n"
       ]
      },
      {
       "output_type": "stream",
       "stream": "stderr",
       "text": [
        "[2015-04-06 20:56:28,937] Hotel name: Nine Zero Hotel - a Kimpton Hotel\n"
       ]
      },
      {
       "output_type": "stream",
       "stream": "stderr",
       "text": [
        "[2015-04-06 20:56:28,937] Hotel name: Nine Zero Hotel - a Kimpton Hotel\n"
       ]
      },
      {
       "output_type": "stream",
       "stream": "stderr",
       "text": [
        "INFO:__main__:Hotel name: Nine Zero Hotel - a Kimpton Hotel\n"
       ]
      },
      {
       "output_type": "stream",
       "stream": "stderr",
       "text": [
        "[2015-04-06 20:56:28,937] Stars: 4.5\n"
       ]
      },
      {
       "output_type": "stream",
       "stream": "stderr",
       "text": [
        "[2015-04-06 20:56:28,937] Stars: 4.5\n"
       ]
      },
      {
       "output_type": "stream",
       "stream": "stderr",
       "text": [
        "[2015-04-06 20:56:28,937] Stars: 4.5\n"
       ]
      },
      {
       "output_type": "stream",
       "stream": "stderr",
       "text": [
        "INFO:__main__:Stars: 4.5\n"
       ]
      },
      {
       "output_type": "stream",
       "stream": "stderr",
       "text": [
        "[2015-04-06 20:56:28,938] Number of reviews: 1,829 reviews \n"
       ]
      },
      {
       "output_type": "stream",
       "stream": "stderr",
       "text": [
        "[2015-04-06 20:56:28,938] Number of reviews: 1,829 reviews \n"
       ]
      },
      {
       "output_type": "stream",
       "stream": "stderr",
       "text": [
        "[2015-04-06 20:56:28,938] Number of reviews: 1,829 reviews \n"
       ]
      },
      {
       "output_type": "stream",
       "stream": "stderr",
       "text": [
        "INFO:__main__:Number of reviews: 1,829 reviews \n"
       ]
      },
      {
       "output_type": "stream",
       "stream": "stderr",
       "text": [
        "[2015-04-06 20:56:28,940] Hotel name: Lenox Hotel\n"
       ]
      },
      {
       "output_type": "stream",
       "stream": "stderr",
       "text": [
        "[2015-04-06 20:56:28,940] Hotel name: Lenox Hotel\n"
       ]
      },
      {
       "output_type": "stream",
       "stream": "stderr",
       "text": [
        "[2015-04-06 20:56:28,940] Hotel name: Lenox Hotel\n"
       ]
      },
      {
       "output_type": "stream",
       "stream": "stderr",
       "text": [
        "INFO:__main__:Hotel name: Lenox Hotel\n"
       ]
      },
      {
       "output_type": "stream",
       "stream": "stderr",
       "text": [
        "[2015-04-06 20:56:28,940] Stars: 4.5\n"
       ]
      },
      {
       "output_type": "stream",
       "stream": "stderr",
       "text": [
        "[2015-04-06 20:56:28,940] Stars: 4.5\n"
       ]
      },
      {
       "output_type": "stream",
       "stream": "stderr",
       "text": [
        "[2015-04-06 20:56:28,940] Stars: 4.5\n"
       ]
      },
      {
       "output_type": "stream",
       "stream": "stderr",
       "text": [
        "INFO:__main__:Stars: 4.5\n"
       ]
      },
      {
       "output_type": "stream",
       "stream": "stderr",
       "text": [
        "[2015-04-06 20:56:28,941] Number of reviews: 2,566 reviews \n"
       ]
      },
      {
       "output_type": "stream",
       "stream": "stderr",
       "text": [
        "[2015-04-06 20:56:28,941] Number of reviews: 2,566 reviews \n"
       ]
      },
      {
       "output_type": "stream",
       "stream": "stderr",
       "text": [
        "[2015-04-06 20:56:28,941] Number of reviews: 2,566 reviews \n"
       ]
      },
      {
       "output_type": "stream",
       "stream": "stderr",
       "text": [
        "INFO:__main__:Number of reviews: 2,566 reviews \n"
       ]
      },
      {
       "output_type": "stream",
       "stream": "stderr",
       "text": [
        "[2015-04-06 20:56:28,943] Hotel name: The Westin Copley Place\n"
       ]
      },
      {
       "output_type": "stream",
       "stream": "stderr",
       "text": [
        "[2015-04-06 20:56:28,943] Hotel name: The Westin Copley Place\n"
       ]
      },
      {
       "output_type": "stream",
       "stream": "stderr",
       "text": [
        "[2015-04-06 20:56:28,943] Hotel name: The Westin Copley Place\n"
       ]
      },
      {
       "output_type": "stream",
       "stream": "stderr",
       "text": [
        "INFO:__main__:Hotel name: The Westin Copley Place\n"
       ]
      },
      {
       "output_type": "stream",
       "stream": "stderr",
       "text": [
        "[2015-04-06 20:56:28,944] Stars: 4\n"
       ]
      },
      {
       "output_type": "stream",
       "stream": "stderr",
       "text": [
        "[2015-04-06 20:56:28,944] Stars: 4\n"
       ]
      },
      {
       "output_type": "stream",
       "stream": "stderr",
       "text": [
        "[2015-04-06 20:56:28,944] Stars: 4\n"
       ]
      },
      {
       "output_type": "stream",
       "stream": "stderr",
       "text": [
        "INFO:__main__:Stars: 4\n"
       ]
      },
      {
       "output_type": "stream",
       "stream": "stderr",
       "text": [
        "[2015-04-06 20:56:28,944] Number of reviews: 2,307 reviews \n"
       ]
      },
      {
       "output_type": "stream",
       "stream": "stderr",
       "text": [
        "[2015-04-06 20:56:28,944] Number of reviews: 2,307 reviews \n"
       ]
      },
      {
       "output_type": "stream",
       "stream": "stderr",
       "text": [
        "[2015-04-06 20:56:28,944] Number of reviews: 2,307 reviews \n"
       ]
      },
      {
       "output_type": "stream",
       "stream": "stderr",
       "text": [
        "INFO:__main__:Number of reviews: 2,307 reviews \n"
       ]
      },
      {
       "output_type": "stream",
       "stream": "stderr",
       "text": [
        "[2015-04-06 20:56:28,946] Hotel name: Courtyard by Marriott Boston Copley Square\n"
       ]
      },
      {
       "output_type": "stream",
       "stream": "stderr",
       "text": [
        "[2015-04-06 20:56:28,946] Hotel name: Courtyard by Marriott Boston Copley Square\n"
       ]
      },
      {
       "output_type": "stream",
       "stream": "stderr",
       "text": [
        "[2015-04-06 20:56:28,946] Hotel name: Courtyard by Marriott Boston Copley Square\n"
       ]
      },
      {
       "output_type": "stream",
       "stream": "stderr",
       "text": [
        "INFO:__main__:Hotel name: Courtyard by Marriott Boston Copley Square\n"
       ]
      },
      {
       "output_type": "stream",
       "stream": "stderr",
       "text": [
        "[2015-04-06 20:56:28,947] Stars: 4.5\n"
       ]
      },
      {
       "output_type": "stream",
       "stream": "stderr",
       "text": [
        "[2015-04-06 20:56:28,947] Stars: 4.5\n"
       ]
      },
      {
       "output_type": "stream",
       "stream": "stderr",
       "text": [
        "[2015-04-06 20:56:28,947] Stars: 4.5\n"
       ]
      },
      {
       "output_type": "stream",
       "stream": "stderr",
       "text": [
        "INFO:__main__:Stars: 4.5\n"
       ]
      },
      {
       "output_type": "stream",
       "stream": "stderr",
       "text": [
        "[2015-04-06 20:56:28,947] Number of reviews: 966 reviews \n"
       ]
      },
      {
       "output_type": "stream",
       "stream": "stderr",
       "text": [
        "[2015-04-06 20:56:28,947] Number of reviews: 966 reviews \n"
       ]
      },
      {
       "output_type": "stream",
       "stream": "stderr",
       "text": [
        "[2015-04-06 20:56:28,947] Number of reviews: 966 reviews \n"
       ]
      },
      {
       "output_type": "stream",
       "stream": "stderr",
       "text": [
        "INFO:__main__:Number of reviews: 966 reviews \n"
       ]
      },
      {
       "output_type": "stream",
       "stream": "stderr",
       "text": [
        "[2015-04-06 20:56:28,948] Hotel name: Omni Parker House\n"
       ]
      },
      {
       "output_type": "stream",
       "stream": "stderr",
       "text": [
        "[2015-04-06 20:56:28,948] Hotel name: Omni Parker House\n"
       ]
      },
      {
       "output_type": "stream",
       "stream": "stderr",
       "text": [
        "[2015-04-06 20:56:28,948] Hotel name: Omni Parker House\n"
       ]
      },
      {
       "output_type": "stream",
       "stream": "stderr",
       "text": [
        "INFO:__main__:Hotel name: Omni Parker House\n"
       ]
      },
      {
       "output_type": "stream",
       "stream": "stderr",
       "text": [
        "[2015-04-06 20:56:28,950] Stars: 4\n"
       ]
      },
      {
       "output_type": "stream",
       "stream": "stderr",
       "text": [
        "[2015-04-06 20:56:28,950] Stars: 4\n"
       ]
      },
      {
       "output_type": "stream",
       "stream": "stderr",
       "text": [
        "[2015-04-06 20:56:28,950] Stars: 4\n"
       ]
      },
      {
       "output_type": "stream",
       "stream": "stderr",
       "text": [
        "INFO:__main__:Stars: 4\n"
       ]
      },
      {
       "output_type": "stream",
       "stream": "stderr",
       "text": [
        "[2015-04-06 20:56:28,950] Number of reviews: 4,463 reviews \n"
       ]
      },
      {
       "output_type": "stream",
       "stream": "stderr",
       "text": [
        "[2015-04-06 20:56:28,950] Number of reviews: 4,463 reviews \n"
       ]
      },
      {
       "output_type": "stream",
       "stream": "stderr",
       "text": [
        "[2015-04-06 20:56:28,950] Number of reviews: 4,463 reviews \n"
       ]
      },
      {
       "output_type": "stream",
       "stream": "stderr",
       "text": [
        "INFO:__main__:Number of reviews: 4,463 reviews \n"
       ]
      },
      {
       "output_type": "stream",
       "stream": "stderr",
       "text": [
        "[2015-04-06 20:56:28,951] Hotel name: Embassy Suites Boston Logan Airport\n"
       ]
      },
      {
       "output_type": "stream",
       "stream": "stderr",
       "text": [
        "[2015-04-06 20:56:28,951] Hotel name: Embassy Suites Boston Logan Airport\n"
       ]
      },
      {
       "output_type": "stream",
       "stream": "stderr",
       "text": [
        "[2015-04-06 20:56:28,951] Hotel name: Embassy Suites Boston Logan Airport\n"
       ]
      },
      {
       "output_type": "stream",
       "stream": "stderr",
       "text": [
        "INFO:__main__:Hotel name: Embassy Suites Boston Logan Airport\n"
       ]
      },
      {
       "output_type": "stream",
       "stream": "stderr",
       "text": [
        "[2015-04-06 20:56:28,953] Stars: 4\n"
       ]
      },
      {
       "output_type": "stream",
       "stream": "stderr",
       "text": [
        "[2015-04-06 20:56:28,953] Stars: 4\n"
       ]
      },
      {
       "output_type": "stream",
       "stream": "stderr",
       "text": [
        "[2015-04-06 20:56:28,953] Stars: 4\n"
       ]
      },
      {
       "output_type": "stream",
       "stream": "stderr",
       "text": [
        "INFO:__main__:Stars: 4\n"
       ]
      },
      {
       "output_type": "stream",
       "stream": "stderr",
       "text": [
        "[2015-04-06 20:56:28,953] Number of reviews: 1,322 reviews \n"
       ]
      },
      {
       "output_type": "stream",
       "stream": "stderr",
       "text": [
        "[2015-04-06 20:56:28,953] Number of reviews: 1,322 reviews \n"
       ]
      },
      {
       "output_type": "stream",
       "stream": "stderr",
       "text": [
        "[2015-04-06 20:56:28,953] Number of reviews: 1,322 reviews \n"
       ]
      },
      {
       "output_type": "stream",
       "stream": "stderr",
       "text": [
        "INFO:__main__:Number of reviews: 1,322 reviews \n"
       ]
      },
      {
       "output_type": "stream",
       "stream": "stderr",
       "text": [
        "[2015-04-06 20:56:28,954] Hotel name: XV Beacon\n"
       ]
      },
      {
       "output_type": "stream",
       "stream": "stderr",
       "text": [
        "[2015-04-06 20:56:28,954] Hotel name: XV Beacon\n"
       ]
      },
      {
       "output_type": "stream",
       "stream": "stderr",
       "text": [
        "[2015-04-06 20:56:28,954] Hotel name: XV Beacon\n"
       ]
      },
      {
       "output_type": "stream",
       "stream": "stderr",
       "text": [
        "INFO:__main__:Hotel name: XV Beacon\n"
       ]
      },
      {
       "output_type": "stream",
       "stream": "stderr",
       "text": [
        "[2015-04-06 20:56:28,956] Stars: 4.5\n"
       ]
      },
      {
       "output_type": "stream",
       "stream": "stderr",
       "text": [
        "[2015-04-06 20:56:28,956] Stars: 4.5\n"
       ]
      },
      {
       "output_type": "stream",
       "stream": "stderr",
       "text": [
        "[2015-04-06 20:56:28,956] Stars: 4.5\n"
       ]
      },
      {
       "output_type": "stream",
       "stream": "stderr",
       "text": [
        "INFO:__main__:Stars: 4.5\n"
       ]
      },
      {
       "output_type": "stream",
       "stream": "stderr",
       "text": [
        "[2015-04-06 20:56:28,957] Number of reviews: 798 reviews \n"
       ]
      },
      {
       "output_type": "stream",
       "stream": "stderr",
       "text": [
        "[2015-04-06 20:56:28,957] Number of reviews: 798 reviews \n"
       ]
      },
      {
       "output_type": "stream",
       "stream": "stderr",
       "text": [
        "[2015-04-06 20:56:28,957] Number of reviews: 798 reviews \n"
       ]
      },
      {
       "output_type": "stream",
       "stream": "stderr",
       "text": [
        "INFO:__main__:Number of reviews: 798 reviews \n"
       ]
      },
      {
       "output_type": "stream",
       "stream": "stderr",
       "text": [
        "[2015-04-06 20:56:28,957] Hotel name: The Midtown Hotel\n"
       ]
      },
      {
       "output_type": "stream",
       "stream": "stderr",
       "text": [
        "[2015-04-06 20:56:28,957] Hotel name: The Midtown Hotel\n"
       ]
      },
      {
       "output_type": "stream",
       "stream": "stderr",
       "text": [
        "[2015-04-06 20:56:28,957] Hotel name: The Midtown Hotel\n"
       ]
      },
      {
       "output_type": "stream",
       "stream": "stderr",
       "text": [
        "INFO:__main__:Hotel name: The Midtown Hotel\n"
       ]
      },
      {
       "output_type": "stream",
       "stream": "stderr",
       "text": [
        "[2015-04-06 20:56:28,959] Stars: 3.5\n"
       ]
      },
      {
       "output_type": "stream",
       "stream": "stderr",
       "text": [
        "[2015-04-06 20:56:28,959] Stars: 3.5\n"
       ]
      },
      {
       "output_type": "stream",
       "stream": "stderr",
       "text": [
        "[2015-04-06 20:56:28,959] Stars: 3.5\n"
       ]
      },
      {
       "output_type": "stream",
       "stream": "stderr",
       "text": [
        "INFO:__main__:Stars: 3.5\n"
       ]
      },
      {
       "output_type": "stream",
       "stream": "stderr",
       "text": [
        "[2015-04-06 20:56:28,960] Number of reviews: 1,384 reviews \n"
       ]
      },
      {
       "output_type": "stream",
       "stream": "stderr",
       "text": [
        "[2015-04-06 20:56:28,960] Number of reviews: 1,384 reviews \n"
       ]
      },
      {
       "output_type": "stream",
       "stream": "stderr",
       "text": [
        "[2015-04-06 20:56:28,960] Number of reviews: 1,384 reviews \n"
       ]
      },
      {
       "output_type": "stream",
       "stream": "stderr",
       "text": [
        "INFO:__main__:Number of reviews: 1,384 reviews \n"
       ]
      },
      {
       "output_type": "stream",
       "stream": "stderr",
       "text": [
        "[2015-04-06 20:56:28,960] Hotel name: The Verb Hotel\n"
       ]
      },
      {
       "output_type": "stream",
       "stream": "stderr",
       "text": [
        "[2015-04-06 20:56:28,960] Hotel name: The Verb Hotel\n"
       ]
      },
      {
       "output_type": "stream",
       "stream": "stderr",
       "text": [
        "[2015-04-06 20:56:28,960] Hotel name: The Verb Hotel\n"
       ]
      },
      {
       "output_type": "stream",
       "stream": "stderr",
       "text": [
        "INFO:__main__:Hotel name: The Verb Hotel\n"
       ]
      },
      {
       "output_type": "stream",
       "stream": "stderr",
       "text": [
        "[2015-04-06 20:56:28,960] Stars: 4.5\n"
       ]
      },
      {
       "output_type": "stream",
       "stream": "stderr",
       "text": [
        "[2015-04-06 20:56:28,960] Stars: 4.5\n"
       ]
      },
      {
       "output_type": "stream",
       "stream": "stderr",
       "text": [
        "[2015-04-06 20:56:28,960] Stars: 4.5\n"
       ]
      },
      {
       "output_type": "stream",
       "stream": "stderr",
       "text": [
        "INFO:__main__:Stars: 4.5\n"
       ]
      },
      {
       "output_type": "stream",
       "stream": "stderr",
       "text": [
        "[2015-04-06 20:56:28,961] Number of reviews: 245 reviews \n"
       ]
      },
      {
       "output_type": "stream",
       "stream": "stderr",
       "text": [
        "[2015-04-06 20:56:28,961] Number of reviews: 245 reviews \n"
       ]
      },
      {
       "output_type": "stream",
       "stream": "stderr",
       "text": [
        "[2015-04-06 20:56:28,961] Number of reviews: 245 reviews \n"
       ]
      },
      {
       "output_type": "stream",
       "stream": "stderr",
       "text": [
        "INFO:__main__:Number of reviews: 245 reviews \n"
       ]
      },
      {
       "output_type": "stream",
       "stream": "stderr",
       "text": [
        "[2015-04-06 20:56:28,963] Hotel name: The Liberty Hotel\n"
       ]
      },
      {
       "output_type": "stream",
       "stream": "stderr",
       "text": [
        "[2015-04-06 20:56:28,963] Hotel name: The Liberty Hotel\n"
       ]
      },
      {
       "output_type": "stream",
       "stream": "stderr",
       "text": [
        "[2015-04-06 20:56:28,963] Hotel name: The Liberty Hotel\n"
       ]
      },
      {
       "output_type": "stream",
       "stream": "stderr",
       "text": [
        "INFO:__main__:Hotel name: The Liberty Hotel\n"
       ]
      },
      {
       "output_type": "stream",
       "stream": "stderr",
       "text": [
        "[2015-04-06 20:56:28,963] Stars: 4\n"
       ]
      },
      {
       "output_type": "stream",
       "stream": "stderr",
       "text": [
        "[2015-04-06 20:56:28,963] Stars: 4\n"
       ]
      },
      {
       "output_type": "stream",
       "stream": "stderr",
       "text": [
        "[2015-04-06 20:56:28,963] Stars: 4\n"
       ]
      },
      {
       "output_type": "stream",
       "stream": "stderr",
       "text": [
        "INFO:__main__:Stars: 4\n"
       ]
      },
      {
       "output_type": "stream",
       "stream": "stderr",
       "text": [
        "[2015-04-06 20:56:28,964] Number of reviews: 745 reviews \n"
       ]
      },
      {
       "output_type": "stream",
       "stream": "stderr",
       "text": [
        "[2015-04-06 20:56:28,964] Number of reviews: 745 reviews \n"
       ]
      },
      {
       "output_type": "stream",
       "stream": "stderr",
       "text": [
        "[2015-04-06 20:56:28,964] Number of reviews: 745 reviews \n"
       ]
      },
      {
       "output_type": "stream",
       "stream": "stderr",
       "text": [
        "INFO:__main__:Number of reviews: 745 reviews \n"
       ]
      },
      {
       "output_type": "stream",
       "stream": "stderr",
       "text": [
        "[2015-04-06 20:56:28,966] Hotel name: Copley Square Hotel\n"
       ]
      },
      {
       "output_type": "stream",
       "stream": "stderr",
       "text": [
        "[2015-04-06 20:56:28,966] Hotel name: Copley Square Hotel\n"
       ]
      },
      {
       "output_type": "stream",
       "stream": "stderr",
       "text": [
        "[2015-04-06 20:56:28,966] Hotel name: Copley Square Hotel\n"
       ]
      },
      {
       "output_type": "stream",
       "stream": "stderr",
       "text": [
        "INFO:__main__:Hotel name: Copley Square Hotel\n"
       ]
      },
      {
       "output_type": "stream",
       "stream": "stderr",
       "text": [
        "[2015-04-06 20:56:28,967] Stars: 4.5\n"
       ]
      },
      {
       "output_type": "stream",
       "stream": "stderr",
       "text": [
        "[2015-04-06 20:56:28,967] Stars: 4.5\n"
       ]
      },
      {
       "output_type": "stream",
       "stream": "stderr",
       "text": [
        "[2015-04-06 20:56:28,967] Stars: 4.5\n"
       ]
      },
      {
       "output_type": "stream",
       "stream": "stderr",
       "text": [
        "INFO:__main__:Stars: 4.5\n"
       ]
      },
      {
       "output_type": "stream",
       "stream": "stderr",
       "text": [
        "[2015-04-06 20:56:28,969] Number of reviews: 1,046 reviews \n"
       ]
      },
      {
       "output_type": "stream",
       "stream": "stderr",
       "text": [
        "[2015-04-06 20:56:28,969] Number of reviews: 1,046 reviews \n"
       ]
      },
      {
       "output_type": "stream",
       "stream": "stderr",
       "text": [
        "[2015-04-06 20:56:28,969] Number of reviews: 1,046 reviews \n"
       ]
      },
      {
       "output_type": "stream",
       "stream": "stderr",
       "text": [
        "INFO:__main__:Number of reviews: 1,046 reviews \n"
       ]
      },
      {
       "output_type": "stream",
       "stream": "stderr",
       "text": [
        "[2015-04-06 20:56:28,970] Hotel name: Taj Boston\n"
       ]
      },
      {
       "output_type": "stream",
       "stream": "stderr",
       "text": [
        "[2015-04-06 20:56:28,970] Hotel name: Taj Boston\n"
       ]
      },
      {
       "output_type": "stream",
       "stream": "stderr",
       "text": [
        "[2015-04-06 20:56:28,970] Hotel name: Taj Boston\n"
       ]
      },
      {
       "output_type": "stream",
       "stream": "stderr",
       "text": [
        "INFO:__main__:Hotel name: Taj Boston\n"
       ]
      },
      {
       "output_type": "stream",
       "stream": "stderr",
       "text": [
        "[2015-04-06 20:56:28,971] Stars: 4\n"
       ]
      },
      {
       "output_type": "stream",
       "stream": "stderr",
       "text": [
        "[2015-04-06 20:56:28,971] Stars: 4\n"
       ]
      },
      {
       "output_type": "stream",
       "stream": "stderr",
       "text": [
        "[2015-04-06 20:56:28,971] Stars: 4\n"
       ]
      },
      {
       "output_type": "stream",
       "stream": "stderr",
       "text": [
        "INFO:__main__:Stars: 4\n"
       ]
      },
      {
       "output_type": "stream",
       "stream": "stderr",
       "text": [
        "[2015-04-06 20:56:28,973] Number of reviews: 1,147 reviews \n"
       ]
      },
      {
       "output_type": "stream",
       "stream": "stderr",
       "text": [
        "[2015-04-06 20:56:28,973] Number of reviews: 1,147 reviews \n"
       ]
      },
      {
       "output_type": "stream",
       "stream": "stderr",
       "text": [
        "[2015-04-06 20:56:28,973] Number of reviews: 1,147 reviews \n"
       ]
      },
      {
       "output_type": "stream",
       "stream": "stderr",
       "text": [
        "INFO:__main__:Number of reviews: 1,147 reviews \n"
       ]
      },
      {
       "output_type": "stream",
       "stream": "stderr",
       "text": [
        "[2015-04-06 20:56:28,974] Hotel name: Harborside Inn\n"
       ]
      },
      {
       "output_type": "stream",
       "stream": "stderr",
       "text": [
        "[2015-04-06 20:56:28,974] Hotel name: Harborside Inn\n"
       ]
      },
      {
       "output_type": "stream",
       "stream": "stderr",
       "text": [
        "[2015-04-06 20:56:28,974] Hotel name: Harborside Inn\n"
       ]
      },
      {
       "output_type": "stream",
       "stream": "stderr",
       "text": [
        "INFO:__main__:Hotel name: Harborside Inn\n"
       ]
      },
      {
       "output_type": "stream",
       "stream": "stderr",
       "text": [
        "[2015-04-06 20:56:28,976] Stars: 4\n"
       ]
      },
      {
       "output_type": "stream",
       "stream": "stderr",
       "text": [
        "[2015-04-06 20:56:28,976] Stars: 4\n"
       ]
      },
      {
       "output_type": "stream",
       "stream": "stderr",
       "text": [
        "[2015-04-06 20:56:28,976] Stars: 4\n"
       ]
      },
      {
       "output_type": "stream",
       "stream": "stderr",
       "text": [
        "INFO:__main__:Stars: 4\n"
       ]
      },
      {
       "output_type": "stream",
       "stream": "stderr",
       "text": [
        "[2015-04-06 20:56:28,976] Number of reviews: 1,034 reviews \n"
       ]
      },
      {
       "output_type": "stream",
       "stream": "stderr",
       "text": [
        "[2015-04-06 20:56:28,976] Number of reviews: 1,034 reviews \n"
       ]
      },
      {
       "output_type": "stream",
       "stream": "stderr",
       "text": [
        "[2015-04-06 20:56:28,976] Number of reviews: 1,034 reviews \n"
       ]
      },
      {
       "output_type": "stream",
       "stream": "stderr",
       "text": [
        "INFO:__main__:Number of reviews: 1,034 reviews \n"
       ]
      },
      {
       "output_type": "stream",
       "stream": "stderr",
       "text": [
        "[2015-04-06 20:56:28,976] Hotel name: The Fairmont Copley Plaza, Boston\n"
       ]
      },
      {
       "output_type": "stream",
       "stream": "stderr",
       "text": [
        "[2015-04-06 20:56:28,976] Hotel name: The Fairmont Copley Plaza, Boston\n"
       ]
      },
      {
       "output_type": "stream",
       "stream": "stderr",
       "text": [
        "[2015-04-06 20:56:28,976] Hotel name: The Fairmont Copley Plaza, Boston\n"
       ]
      },
      {
       "output_type": "stream",
       "stream": "stderr",
       "text": [
        "INFO:__main__:Hotel name: The Fairmont Copley Plaza, Boston\n"
       ]
      },
      {
       "output_type": "stream",
       "stream": "stderr",
       "text": [
        "[2015-04-06 20:56:28,977] Stars: 4.5\n"
       ]
      },
      {
       "output_type": "stream",
       "stream": "stderr",
       "text": [
        "[2015-04-06 20:56:28,977] Stars: 4.5\n"
       ]
      },
      {
       "output_type": "stream",
       "stream": "stderr",
       "text": [
        "[2015-04-06 20:56:28,977] Stars: 4.5\n"
       ]
      },
      {
       "output_type": "stream",
       "stream": "stderr",
       "text": [
        "INFO:__main__:Stars: 4.5\n"
       ]
      },
      {
       "output_type": "stream",
       "stream": "stderr",
       "text": [
        "[2015-04-06 20:56:28,979] Number of reviews: 1,611 reviews \n"
       ]
      },
      {
       "output_type": "stream",
       "stream": "stderr",
       "text": [
        "[2015-04-06 20:56:28,979] Number of reviews: 1,611 reviews \n"
       ]
      },
      {
       "output_type": "stream",
       "stream": "stderr",
       "text": [
        "[2015-04-06 20:56:28,979] Number of reviews: 1,611 reviews \n"
       ]
      },
      {
       "output_type": "stream",
       "stream": "stderr",
       "text": [
        "INFO:__main__:Number of reviews: 1,611 reviews \n"
       ]
      },
      {
       "output_type": "stream",
       "stream": "stderr",
       "text": [
        "[2015-04-06 20:56:28,980] Hotel name: Hilton Boston Back Bay\n"
       ]
      },
      {
       "output_type": "stream",
       "stream": "stderr",
       "text": [
        "[2015-04-06 20:56:28,980] Hotel name: Hilton Boston Back Bay\n"
       ]
      },
      {
       "output_type": "stream",
       "stream": "stderr",
       "text": [
        "[2015-04-06 20:56:28,980] Hotel name: Hilton Boston Back Bay\n"
       ]
      },
      {
       "output_type": "stream",
       "stream": "stderr",
       "text": [
        "INFO:__main__:Hotel name: Hilton Boston Back Bay\n"
       ]
      },
      {
       "output_type": "stream",
       "stream": "stderr",
       "text": [
        "[2015-04-06 20:56:28,980] Stars: 4\n"
       ]
      },
      {
       "output_type": "stream",
       "stream": "stderr",
       "text": [
        "[2015-04-06 20:56:28,980] Stars: 4\n"
       ]
      },
      {
       "output_type": "stream",
       "stream": "stderr",
       "text": [
        "[2015-04-06 20:56:28,980] Stars: 4\n"
       ]
      },
      {
       "output_type": "stream",
       "stream": "stderr",
       "text": [
        "INFO:__main__:Stars: 4\n"
       ]
      },
      {
       "output_type": "stream",
       "stream": "stderr",
       "text": [
        "[2015-04-06 20:56:28,982] Number of reviews: 1,707 reviews \n"
       ]
      },
      {
       "output_type": "stream",
       "stream": "stderr",
       "text": [
        "[2015-04-06 20:56:28,982] Number of reviews: 1,707 reviews \n"
       ]
      },
      {
       "output_type": "stream",
       "stream": "stderr",
       "text": [
        "[2015-04-06 20:56:28,982] Number of reviews: 1,707 reviews \n"
       ]
      },
      {
       "output_type": "stream",
       "stream": "stderr",
       "text": [
        "INFO:__main__:Number of reviews: 1,707 reviews \n"
       ]
      },
      {
       "output_type": "stream",
       "stream": "stderr",
       "text": [
        "[2015-04-06 20:56:28,983] Hotel name: Millennium Bostonian Hotel\n"
       ]
      },
      {
       "output_type": "stream",
       "stream": "stderr",
       "text": [
        "[2015-04-06 20:56:28,983] Hotel name: Millennium Bostonian Hotel\n"
       ]
      },
      {
       "output_type": "stream",
       "stream": "stderr",
       "text": [
        "[2015-04-06 20:56:28,983] Hotel name: Millennium Bostonian Hotel\n"
       ]
      },
      {
       "output_type": "stream",
       "stream": "stderr",
       "text": [
        "INFO:__main__:Hotel name: Millennium Bostonian Hotel\n"
       ]
      },
      {
       "output_type": "stream",
       "stream": "stderr",
       "text": [
        "[2015-04-06 20:56:28,983] Stars: 4\n"
       ]
      },
      {
       "output_type": "stream",
       "stream": "stderr",
       "text": [
        "[2015-04-06 20:56:28,983] Stars: 4\n"
       ]
      },
      {
       "output_type": "stream",
       "stream": "stderr",
       "text": [
        "[2015-04-06 20:56:28,983] Stars: 4\n"
       ]
      },
      {
       "output_type": "stream",
       "stream": "stderr",
       "text": [
        "INFO:__main__:Stars: 4\n"
       ]
      },
      {
       "output_type": "stream",
       "stream": "stderr",
       "text": [
        "[2015-04-06 20:56:28,984] Number of reviews: 1,019 reviews \n"
       ]
      },
      {
       "output_type": "stream",
       "stream": "stderr",
       "text": [
        "[2015-04-06 20:56:28,984] Number of reviews: 1,019 reviews \n"
       ]
      },
      {
       "output_type": "stream",
       "stream": "stderr",
       "text": [
        "[2015-04-06 20:56:28,984] Number of reviews: 1,019 reviews \n"
       ]
      },
      {
       "output_type": "stream",
       "stream": "stderr",
       "text": [
        "INFO:__main__:Number of reviews: 1,019 reviews \n"
       ]
      },
      {
       "output_type": "stream",
       "stream": "stderr",
       "text": [
        "[2015-04-06 20:56:28,986] Hotel name: The Langham, Boston\n"
       ]
      },
      {
       "output_type": "stream",
       "stream": "stderr",
       "text": [
        "[2015-04-06 20:56:28,986] Hotel name: The Langham, Boston\n"
       ]
      },
      {
       "output_type": "stream",
       "stream": "stderr",
       "text": [
        "[2015-04-06 20:56:28,986] Hotel name: The Langham, Boston\n"
       ]
      },
      {
       "output_type": "stream",
       "stream": "stderr",
       "text": [
        "INFO:__main__:Hotel name: The Langham, Boston\n"
       ]
      },
      {
       "output_type": "stream",
       "stream": "stderr",
       "text": [
        "[2015-04-06 20:56:28,986] Stars: 4.5\n"
       ]
      },
      {
       "output_type": "stream",
       "stream": "stderr",
       "text": [
        "[2015-04-06 20:56:28,986] Stars: 4.5\n"
       ]
      },
      {
       "output_type": "stream",
       "stream": "stderr",
       "text": [
        "[2015-04-06 20:56:28,986] Stars: 4.5\n"
       ]
      },
      {
       "output_type": "stream",
       "stream": "stderr",
       "text": [
        "INFO:__main__:Stars: 4.5\n"
       ]
      },
      {
       "output_type": "stream",
       "stream": "stderr",
       "text": [
        "[2015-04-06 20:56:28,987] Number of reviews: 1,410 reviews \n"
       ]
      },
      {
       "output_type": "stream",
       "stream": "stderr",
       "text": [
        "[2015-04-06 20:56:28,987] Number of reviews: 1,410 reviews \n"
       ]
      },
      {
       "output_type": "stream",
       "stream": "stderr",
       "text": [
        "[2015-04-06 20:56:28,987] Number of reviews: 1,410 reviews \n"
       ]
      },
      {
       "output_type": "stream",
       "stream": "stderr",
       "text": [
        "INFO:__main__:Number of reviews: 1,410 reviews \n"
       ]
      },
      {
       "output_type": "stream",
       "stream": "stderr",
       "text": [
        "[2015-04-06 20:56:28,989] Hotel name: InterContinental Boston\n"
       ]
      },
      {
       "output_type": "stream",
       "stream": "stderr",
       "text": [
        "[2015-04-06 20:56:28,989] Hotel name: InterContinental Boston\n"
       ]
      },
      {
       "output_type": "stream",
       "stream": "stderr",
       "text": [
        "[2015-04-06 20:56:28,989] Hotel name: InterContinental Boston\n"
       ]
      },
      {
       "output_type": "stream",
       "stream": "stderr",
       "text": [
        "INFO:__main__:Hotel name: InterContinental Boston\n"
       ]
      },
      {
       "output_type": "stream",
       "stream": "stderr",
       "text": [
        "[2015-04-06 20:56:28,990] Stars: 4.5\n"
       ]
      },
      {
       "output_type": "stream",
       "stream": "stderr",
       "text": [
        "[2015-04-06 20:56:28,990] Stars: 4.5\n"
       ]
      },
      {
       "output_type": "stream",
       "stream": "stderr",
       "text": [
        "[2015-04-06 20:56:28,990] Stars: 4.5\n"
       ]
      },
      {
       "output_type": "stream",
       "stream": "stderr",
       "text": [
        "INFO:__main__:Stars: 4.5\n"
       ]
      },
      {
       "output_type": "stream",
       "stream": "stderr",
       "text": [
        "[2015-04-06 20:56:28,990] Number of reviews: 1,897 reviews \n"
       ]
      },
      {
       "output_type": "stream",
       "stream": "stderr",
       "text": [
        "[2015-04-06 20:56:28,990] Number of reviews: 1,897 reviews \n"
       ]
      },
      {
       "output_type": "stream",
       "stream": "stderr",
       "text": [
        "[2015-04-06 20:56:28,990] Number of reviews: 1,897 reviews \n"
       ]
      },
      {
       "output_type": "stream",
       "stream": "stderr",
       "text": [
        "INFO:__main__:Number of reviews: 1,897 reviews \n"
       ]
      },
      {
       "output_type": "stream",
       "stream": "stderr",
       "text": [
        "[2015-04-06 20:56:28,992] Hotel name: Boston Hotel Buckminster\n"
       ]
      },
      {
       "output_type": "stream",
       "stream": "stderr",
       "text": [
        "[2015-04-06 20:56:28,992] Hotel name: Boston Hotel Buckminster\n"
       ]
      },
      {
       "output_type": "stream",
       "stream": "stderr",
       "text": [
        "[2015-04-06 20:56:28,992] Hotel name: Boston Hotel Buckminster\n"
       ]
      },
      {
       "output_type": "stream",
       "stream": "stderr",
       "text": [
        "INFO:__main__:Hotel name: Boston Hotel Buckminster\n"
       ]
      },
      {
       "output_type": "stream",
       "stream": "stderr",
       "text": [
        "[2015-04-06 20:56:28,992] Stars: 3.5\n"
       ]
      },
      {
       "output_type": "stream",
       "stream": "stderr",
       "text": [
        "[2015-04-06 20:56:28,992] Stars: 3.5\n"
       ]
      },
      {
       "output_type": "stream",
       "stream": "stderr",
       "text": [
        "[2015-04-06 20:56:28,992] Stars: 3.5\n"
       ]
      },
      {
       "output_type": "stream",
       "stream": "stderr",
       "text": [
        "INFO:__main__:Stars: 3.5\n"
       ]
      },
      {
       "output_type": "stream",
       "stream": "stderr",
       "text": [
        "[2015-04-06 20:56:28,993] Number of reviews: 828 reviews \n"
       ]
      },
      {
       "output_type": "stream",
       "stream": "stderr",
       "text": [
        "[2015-04-06 20:56:28,993] Number of reviews: 828 reviews \n"
       ]
      },
      {
       "output_type": "stream",
       "stream": "stderr",
       "text": [
        "[2015-04-06 20:56:28,993] Number of reviews: 828 reviews \n"
       ]
      },
      {
       "output_type": "stream",
       "stream": "stderr",
       "text": [
        "INFO:__main__:Number of reviews: 828 reviews \n"
       ]
      },
      {
       "output_type": "stream",
       "stream": "stderr",
       "text": [
        "[2015-04-06 20:56:28,993] Hotel name: Marriott's Custom House\n"
       ]
      },
      {
       "output_type": "stream",
       "stream": "stderr",
       "text": [
        "[2015-04-06 20:56:28,993] Hotel name: Marriott's Custom House\n"
       ]
      },
      {
       "output_type": "stream",
       "stream": "stderr",
       "text": [
        "[2015-04-06 20:56:28,993] Hotel name: Marriott's Custom House\n"
       ]
      },
      {
       "output_type": "stream",
       "stream": "stderr",
       "text": [
        "INFO:__main__:Hotel name: Marriott's Custom House\n"
       ]
      },
      {
       "output_type": "stream",
       "stream": "stderr",
       "text": [
        "[2015-04-06 20:56:28,994] Stars: 4.5\n"
       ]
      },
      {
       "output_type": "stream",
       "stream": "stderr",
       "text": [
        "[2015-04-06 20:56:28,994] Stars: 4.5\n"
       ]
      },
      {
       "output_type": "stream",
       "stream": "stderr",
       "text": [
        "[2015-04-06 20:56:28,994] Stars: 4.5\n"
       ]
      },
      {
       "output_type": "stream",
       "stream": "stderr",
       "text": [
        "INFO:__main__:Stars: 4.5\n"
       ]
      },
      {
       "output_type": "stream",
       "stream": "stderr",
       "text": [
        "[2015-04-06 20:56:28,996] Number of reviews: 562 reviews \n"
       ]
      },
      {
       "output_type": "stream",
       "stream": "stderr",
       "text": [
        "[2015-04-06 20:56:28,996] Number of reviews: 562 reviews \n"
       ]
      },
      {
       "output_type": "stream",
       "stream": "stderr",
       "text": [
        "[2015-04-06 20:56:28,996] Number of reviews: 562 reviews \n"
       ]
      },
      {
       "output_type": "stream",
       "stream": "stderr",
       "text": [
        "INFO:__main__:Number of reviews: 562 reviews \n"
       ]
      },
      {
       "output_type": "stream",
       "stream": "stderr",
       "text": [
        "[2015-04-06 20:56:28,996] Hotel name: Sheraton Boston Hotel\n"
       ]
      },
      {
       "output_type": "stream",
       "stream": "stderr",
       "text": [
        "[2015-04-06 20:56:28,996] Hotel name: Sheraton Boston Hotel\n"
       ]
      },
      {
       "output_type": "stream",
       "stream": "stderr",
       "text": [
        "[2015-04-06 20:56:28,996] Hotel name: Sheraton Boston Hotel\n"
       ]
      },
      {
       "output_type": "stream",
       "stream": "stderr",
       "text": [
        "INFO:__main__:Hotel name: Sheraton Boston Hotel\n"
       ]
      },
      {
       "output_type": "stream",
       "stream": "stderr",
       "text": [
        "[2015-04-06 20:56:28,997] Stars: 4\n"
       ]
      },
      {
       "output_type": "stream",
       "stream": "stderr",
       "text": [
        "[2015-04-06 20:56:28,997] Stars: 4\n"
       ]
      },
      {
       "output_type": "stream",
       "stream": "stderr",
       "text": [
        "[2015-04-06 20:56:28,997] Stars: 4\n"
       ]
      },
      {
       "output_type": "stream",
       "stream": "stderr",
       "text": [
        "INFO:__main__:Stars: 4\n"
       ]
      },
      {
       "output_type": "stream",
       "stream": "stderr",
       "text": [
        "[2015-04-06 20:56:28,999] Number of reviews: 533 reviews \n"
       ]
      },
      {
       "output_type": "stream",
       "stream": "stderr",
       "text": [
        "[2015-04-06 20:56:28,999] Number of reviews: 533 reviews \n"
       ]
      },
      {
       "output_type": "stream",
       "stream": "stderr",
       "text": [
        "[2015-04-06 20:56:28,999] Number of reviews: 533 reviews \n"
       ]
      },
      {
       "output_type": "stream",
       "stream": "stderr",
       "text": [
        "INFO:__main__:Number of reviews: 533 reviews \n"
       ]
      },
      {
       "output_type": "stream",
       "stream": "stderr",
       "text": [
        "[2015-04-06 20:56:29,000] Hotel name: Residence Inn Boston Back Bay / Fenway\n"
       ]
      },
      {
       "output_type": "stream",
       "stream": "stderr",
       "text": [
        "[2015-04-06 20:56:29,000] Hotel name: Residence Inn Boston Back Bay / Fenway\n"
       ]
      },
      {
       "output_type": "stream",
       "stream": "stderr",
       "text": [
        "[2015-04-06 20:56:29,000] Hotel name: Residence Inn Boston Back Bay / Fenway\n"
       ]
      },
      {
       "output_type": "stream",
       "stream": "stderr",
       "text": [
        "INFO:__main__:Hotel name: Residence Inn Boston Back Bay / Fenway\n"
       ]
      },
      {
       "output_type": "stream",
       "stream": "stderr",
       "text": [
        "[2015-04-06 20:56:29,000] Stars: 4.5\n"
       ]
      },
      {
       "output_type": "stream",
       "stream": "stderr",
       "text": [
        "[2015-04-06 20:56:29,000] Stars: 4.5\n"
       ]
      },
      {
       "output_type": "stream",
       "stream": "stderr",
       "text": [
        "[2015-04-06 20:56:29,000] Stars: 4.5\n"
       ]
      },
      {
       "output_type": "stream",
       "stream": "stderr",
       "text": [
        "INFO:__main__:Stars: 4.5\n"
       ]
      },
      {
       "output_type": "stream",
       "stream": "stderr",
       "text": [
        "[2015-04-06 20:56:29,002] Number of reviews: 522 reviews \n"
       ]
      },
      {
       "output_type": "stream",
       "stream": "stderr",
       "text": [
        "[2015-04-06 20:56:29,002] Number of reviews: 522 reviews \n"
       ]
      },
      {
       "output_type": "stream",
       "stream": "stderr",
       "text": [
        "[2015-04-06 20:56:29,002] Number of reviews: 522 reviews \n"
       ]
      },
      {
       "output_type": "stream",
       "stream": "stderr",
       "text": [
        "INFO:__main__:Number of reviews: 522 reviews \n"
       ]
      },
      {
       "output_type": "stream",
       "stream": "stderr",
       "text": [
        "[2015-04-06 20:56:29,003] Hotel name: Boston Marriott Copley Place\n"
       ]
      },
      {
       "output_type": "stream",
       "stream": "stderr",
       "text": [
        "[2015-04-06 20:56:29,003] Hotel name: Boston Marriott Copley Place\n"
       ]
      },
      {
       "output_type": "stream",
       "stream": "stderr",
       "text": [
        "[2015-04-06 20:56:29,003] Hotel name: Boston Marriott Copley Place\n"
       ]
      },
      {
       "output_type": "stream",
       "stream": "stderr",
       "text": [
        "INFO:__main__:Hotel name: Boston Marriott Copley Place\n"
       ]
      },
      {
       "output_type": "stream",
       "stream": "stderr",
       "text": [
        "[2015-04-06 20:56:29,005] Stars: 4\n"
       ]
      },
      {
       "output_type": "stream",
       "stream": "stderr",
       "text": [
        "[2015-04-06 20:56:29,005] Stars: 4\n"
       ]
      },
      {
       "output_type": "stream",
       "stream": "stderr",
       "text": [
        "[2015-04-06 20:56:29,005] Stars: 4\n"
       ]
      },
      {
       "output_type": "stream",
       "stream": "stderr",
       "text": [
        "INFO:__main__:Stars: 4\n"
       ]
      },
      {
       "output_type": "stream",
       "stream": "stderr",
       "text": [
        "[2015-04-06 20:56:29,006] Number of reviews: 2,040 reviews \n"
       ]
      },
      {
       "output_type": "stream",
       "stream": "stderr",
       "text": [
        "[2015-04-06 20:56:29,006] Number of reviews: 2,040 reviews \n"
       ]
      },
      {
       "output_type": "stream",
       "stream": "stderr",
       "text": [
        "[2015-04-06 20:56:29,006] Number of reviews: 2,040 reviews \n"
       ]
      },
      {
       "output_type": "stream",
       "stream": "stderr",
       "text": [
        "INFO:__main__:Number of reviews: 2,040 reviews \n"
       ]
      },
      {
       "output_type": "stream",
       "stream": "stderr",
       "text": [
        "[2015-04-06 20:56:29,007] Hotel name: Loews Boston Hotel\n"
       ]
      },
      {
       "output_type": "stream",
       "stream": "stderr",
       "text": [
        "[2015-04-06 20:56:29,007] Hotel name: Loews Boston Hotel\n"
       ]
      },
      {
       "output_type": "stream",
       "stream": "stderr",
       "text": [
        "[2015-04-06 20:56:29,007] Hotel name: Loews Boston Hotel\n"
       ]
      },
      {
       "output_type": "stream",
       "stream": "stderr",
       "text": [
        "INFO:__main__:Hotel name: Loews Boston Hotel\n"
       ]
      },
      {
       "output_type": "stream",
       "stream": "stderr",
       "text": [
        "[2015-04-06 20:56:29,009] Stars: 4.5\n"
       ]
      },
      {
       "output_type": "stream",
       "stream": "stderr",
       "text": [
        "[2015-04-06 20:56:29,009] Stars: 4.5\n"
       ]
      },
      {
       "output_type": "stream",
       "stream": "stderr",
       "text": [
        "[2015-04-06 20:56:29,009] Stars: 4.5\n"
       ]
      },
      {
       "output_type": "stream",
       "stream": "stderr",
       "text": [
        "INFO:__main__:Stars: 4.5\n"
       ]
      },
      {
       "output_type": "stream",
       "stream": "stderr",
       "text": [
        "[2015-04-06 20:56:29,012] Number of reviews: 771 reviews \n"
       ]
      },
      {
       "output_type": "stream",
       "stream": "stderr",
       "text": [
        "[2015-04-06 20:56:29,012] Number of reviews: 771 reviews \n"
       ]
      },
      {
       "output_type": "stream",
       "stream": "stderr",
       "text": [
        "[2015-04-06 20:56:29,012] Number of reviews: 771 reviews \n"
       ]
      },
      {
       "output_type": "stream",
       "stream": "stderr",
       "text": [
        "INFO:__main__:Number of reviews: 771 reviews \n"
       ]
      },
      {
       "metadata": {},
       "output_type": "pyout",
       "prompt_number": 81,
       "text": [
        "u'/Hotels-g60745-oa30-Boston_Massachusetts-Hotels.html#ACCOM_OVERVIEW'"
       ]
      }
     ],
     "prompt_number": 81
    },
    {
     "cell_type": "code",
     "collapsed": false,
     "input": [],
     "language": "python",
     "metadata": {},
     "outputs": [
      {
       "metadata": {},
       "output_type": "pyout",
       "prompt_number": 66,
       "text": [
        "<module 'scrape_solution' from 'scrape_solution.py'>"
       ]
      }
     ],
     "prompt_number": 66
    },
    {
     "cell_type": "code",
     "collapsed": false,
     "input": [
      "def get_hotel_page(city, state, datadir, hotelname,input_url):\n",
      "    \"\"\" Returns the URL of the list of the hotels in a city. Corresponds to\n",
      "    STEP 1 & 2 of the slides.\n",
      "\n",
      "    Parameters\n",
      "    ----------\n",
      "    city : str\n",
      "\n",
      "    state : str\n",
      "\n",
      "    datadir : str\n",
      "\n",
      "\n",
      "    Returns\n",
      "    -------\n",
      "    url : str\n",
      "        The relative link to the website with the hotels list.\n",
      "\n",
      "    \"\"\"\n",
      "    # Build the request URL\n",
      "    #url = base_url + hotelname + \"_\" + city + \"_\" + state\n",
      "    url = base_url + input_url\n",
      "   # print url\n",
      "    # Request the HTML page\n",
      "    headers = {'User-Agent': user_agent}\n",
      "    response = requests.get(url, headers=headers)\n",
      "    html = response.text.encode('utf-8')\n",
      "    with open(os.path.join(datadir, city + '-tourism-page.html'), \"w\") as h:\n",
      "        h.write(html)\n",
      "\n",
      "    # Use BeautifulSoup to extract the url for the list of hotels in\n",
      "    # the city and state we are interested in.\n",
      "\n",
      "    # For example in this case we need to get the following href\n",
      "    # <li class=\"hotels twoLines\">\n",
      "    # <a href=\"/Hotels-g60745-Boston_Massachusetts-Hotels.html\" data-trk=\"hotels_nav\">...</a>\n",
      "    hotelname = \"/Hotel_Review-g60745-d94330-Reviews-\" + hotelname+ \"-Boston_Massachusetts.html\"\n",
      "    soup = BeautifulSoup(html)\n",
      "    #div  = soup.find(\"div\",{\"class\": \"listing_title\"})       \n",
      "    city_url = soup.find('a', href=hotelname)\n",
      "    return city_url['href']\n",
      "\n",
      "input_url = get_city_page(\"BOSTON\", \"MA\", datadir='data/')\n",
      "x = get_hotel_page(\"BOSTON\",\"MA\",'data/',\"Seaport_Boston_Hotel\",input_url)\n",
      "parse_hotel_page(x)\n"
     ],
     "language": "python",
     "metadata": {},
     "outputs": [
      {
       "output_type": "stream",
       "stream": "stderr",
       "text": [
        "[2015-04-06 23:28:03,415] #################################### Option 2 ######################################\n"
       ]
      },
      {
       "output_type": "stream",
       "stream": "stderr",
       "text": [
        "[2015-04-06 23:28:03,415] #################################### Option 2 ######################################\n"
       ]
      },
      {
       "output_type": "stream",
       "stream": "stderr",
       "text": [
        "[2015-04-06 23:28:03,415] #################################### Option 2 ######################################\n"
       ]
      },
      {
       "output_type": "stream",
       "stream": "stderr",
       "text": [
        "INFO:__main__:#################################### Option 2 ######################################\n"
       ]
      },
      {
       "output_type": "stream",
       "stream": "stderr",
       "text": [
        "[2015-04-06 23:28:03,415] #################################### Option 3 ######################################\n"
       ]
      },
      {
       "output_type": "stream",
       "stream": "stderr",
       "text": [
        "[2015-04-06 23:28:03,415] #################################### Option 3 ######################################\n"
       ]
      },
      {
       "output_type": "stream",
       "stream": "stderr",
       "text": [
        "[2015-04-06 23:28:03,415] #################################### Option 3 ######################################\n"
       ]
      },
      {
       "output_type": "stream",
       "stream": "stderr",
       "text": [
        "INFO:__main__:#################################### Option 3 ######################################\n"
       ]
      },
      {
       "ename": "AttributeError",
       "evalue": "'NoneType' object has no attribute 'find'",
       "output_type": "pyerr",
       "traceback": [
        "\u001b[1;31m---------------------------------------------------------------------------\u001b[0m\n\u001b[1;31mAttributeError\u001b[0m                            Traceback (most recent call last)",
        "\u001b[1;32m<ipython-input-148-ad401d372cb1>\u001b[0m in \u001b[0;36m<module>\u001b[1;34m()\u001b[0m\n\u001b[0;32m     43\u001b[0m \u001b[0minput_url\u001b[0m \u001b[1;33m=\u001b[0m \u001b[0mget_city_page\u001b[0m\u001b[1;33m(\u001b[0m\u001b[1;34m\"BOSTON\"\u001b[0m\u001b[1;33m,\u001b[0m \u001b[1;34m\"MA\"\u001b[0m\u001b[1;33m,\u001b[0m \u001b[0mdatadir\u001b[0m\u001b[1;33m=\u001b[0m\u001b[1;34m'data/'\u001b[0m\u001b[1;33m)\u001b[0m\u001b[1;33m\u001b[0m\u001b[0m\n\u001b[0;32m     44\u001b[0m \u001b[0mx\u001b[0m \u001b[1;33m=\u001b[0m \u001b[0mget_hotel_page\u001b[0m\u001b[1;33m(\u001b[0m\u001b[1;34m\"BOSTON\"\u001b[0m\u001b[1;33m,\u001b[0m\u001b[1;34m\"MA\"\u001b[0m\u001b[1;33m,\u001b[0m\u001b[1;34m'data/'\u001b[0m\u001b[1;33m,\u001b[0m\u001b[1;34m\"Seaport_Boston_Hotel\"\u001b[0m\u001b[1;33m,\u001b[0m\u001b[0minput_url\u001b[0m\u001b[1;33m)\u001b[0m\u001b[1;33m\u001b[0m\u001b[0m\n\u001b[1;32m---> 45\u001b[1;33m \u001b[0mparse_hotel_page\u001b[0m\u001b[1;33m(\u001b[0m\u001b[0mx\u001b[0m\u001b[1;33m)\u001b[0m\u001b[1;33m\u001b[0m\u001b[0m\n\u001b[0m",
        "\u001b[1;32m<ipython-input-51-bb116f50285d>\u001b[0m in \u001b[0;36mparse_hotel_page\u001b[1;34m(html)\u001b[0m\n\u001b[0;32m     42\u001b[0m     \u001b[1;31m#print div\u001b[0m\u001b[1;33m\u001b[0m\u001b[1;33m\u001b[0m\u001b[0m\n\u001b[0;32m     43\u001b[0m     \u001b[1;31m# check if this is the last page\u001b[0m\u001b[1;33m\u001b[0m\u001b[1;33m\u001b[0m\u001b[0m\n\u001b[1;32m---> 44\u001b[1;33m     \u001b[1;32mif\u001b[0m \u001b[0mdiv\u001b[0m\u001b[1;33m.\u001b[0m\u001b[0mfind\u001b[0m\u001b[1;33m(\u001b[0m\u001b[1;34m'span'\u001b[0m\u001b[1;33m,\u001b[0m \u001b[1;33m{\u001b[0m\u001b[1;34m'class'\u001b[0m \u001b[1;33m:\u001b[0m \u001b[1;34m'guiArw pageEndNext'\u001b[0m\u001b[1;33m}\u001b[0m\u001b[1;33m)\u001b[0m\u001b[1;33m:\u001b[0m\u001b[1;33m\u001b[0m\u001b[0m\n\u001b[0m\u001b[0;32m     45\u001b[0m         \u001b[1;31m#print (\"We reached last page\")\u001b[0m\u001b[1;33m\u001b[0m\u001b[1;33m\u001b[0m\u001b[0m\n\u001b[0;32m     46\u001b[0m         \u001b[0msys\u001b[0m\u001b[1;33m.\u001b[0m\u001b[0mexit\u001b[0m\u001b[1;33m(\u001b[0m\u001b[1;33m)\u001b[0m\u001b[1;33m\u001b[0m\u001b[0m\n",
        "\u001b[1;31mAttributeError\u001b[0m: 'NoneType' object has no attribute 'find'"
       ]
      }
     ],
     "prompt_number": 148
    },
    {
     "cell_type": "code",
     "collapsed": false,
     "input": [
      "def get_hotels(html):\n",
      "    \"\"\"Parses the website with the hotel list and prints the hotel name, the\n",
      "    number of stars and the number of reviews it has. If there is a next page\n",
      "    in the hotel list, it returns a list to that page. Otherwise, it exits the\n",
      "    script. Corresponds to STEP 4 of the slides.\n",
      "\n",
      "    Parameters\n",
      "    ----------\n",
      "    html : str\n",
      "        The HTML of the website with the hotel list.\n",
      "\n",
      "    Returns\n",
      "    -------\n",
      "    URL : str\n",
      "        If there is a next page, return a relative link to this page.\n",
      "        Otherwise, exit the script.\n",
      "    \"\"\"\n",
      "    hotels = []\n",
      "    \n",
      "    soup = BeautifulSoup(html)\n",
      "    # Extract hotel name, star rating and number of reviews\n",
      "    hotel_boxes = soup.findAll('div', {'class' :'listing wrap reasoning_v5_wrap jfy_listing p13n_imperfect'})\n",
      "    if not hotel_boxes:\n",
      "        log.info(\"#################################### Option 2 ######################################\")\n",
      "        hotel_boxes = soup.findAll('div', {'class' :'listing_info jfy'})\n",
      "    if not hotel_boxes:\n",
      "        log.info(\"#################################### Option 3 ######################################\")\n",
      "        hotel_boxes = soup.findAll('div', {'class' :'listing easyClear  p13n_imperfect'})\n",
      "\n",
      "    for hotel_box in hotel_boxes:\n",
      "        hotel_name = hotel_box.find(\"a\", {\"target\" : \"_blank\"}).find(text=True)\n",
      "        hotels.append(hotel_name)\n",
      "        log.info(\"Hotel name: %s\" % hotel_name.strip())\n",
      "\n",
      "        stars = hotel_box.find(\"img\", {\"class\" : \"sprite-ratings\"})\n",
      "        if stars:\n",
      "            log.info(\"Stars: %s\" % stars['alt'].split()[0])\n",
      "\n",
      "        num_reviews = hotel_box.find(\"span\", {'class': \"more\"}).findAll(text=True)\n",
      "        if num_reviews:\n",
      "            log.info(\"Number of reviews: %s \" % [x for x in num_reviews if \"review\" in x][0].strip())\n",
      "\n",
      "    # Get next URL page if exists, otherwise exit\n",
      "    div = soup.find(\"div\", {\"class\" : \"pgLinks\"})\n",
      "    #print div\n",
      "    # check if this is the last page\n",
      "    if div.find('span', {'class' : 'guiArw pageEndNext'}):\n",
      "        #print (\"We reached last page\")\n",
      "        sys.exit()\n",
      "    # If not, return the url to the next page\n",
      "    hrefs = div.findAll('a', {'class':\"guiArw sprite-pageNext \"})\n",
      "    for href in hrefs:\n",
      "        #print (\"Next url is \", href['href'])\n",
      "        return hotels\n",
      "    \n",
      "hotel_list = []\n",
      "hotel_list = get_hotels(html)"
     ],
     "language": "python",
     "metadata": {},
     "outputs": [],
     "prompt_number": 118
    },
    {
     "cell_type": "code",
     "collapsed": false,
     "input": [
      "import re\n",
      "\n",
      "#List of all hotels in Boston\n",
      "print hotel_list\n",
      "\n",
      "#Add underscores to all Hotel names\n",
      "for n in range(len(hotel_list)):\n",
      "    hotel_list[n] = hotel_list[n].replace(\" \", \"_\")\n",
      "\n",
      "\n",
      "print hotel_list[0]\n",
      "\n",
      "#For each hotel in the list capture all information \n",
      "for n in range(len(hotel_list)):\n",
      "    get_hotel_page(\"BOSTON\",\"MA\",'data/',hotel_list[n],input_url)\n"
     ],
     "language": "python",
     "metadata": {},
     "outputs": [
      {
       "output_type": "stream",
       "stream": "stdout",
       "text": [
        "[u'\\nSeaport_Boston_Hotel', u'\\nHyatt_Boston_Harbor', u'\\nCourtyard_by_Marriott_Boston_Copley_Square', u'\\nNine_Zero_Hotel_-_a_Kimpton_Hotel', u'\\nThe_Westin_Copley_Place', u'\\nBoston_Harbor_Hotel', u'\\nHotel_Commonwealth', u'\\nRevere_Hotel_Boston_Common', u'\\nLenox_Hotel', u'\\nenVision_Hotel_Boston', u'\\nSheraton_Boston_Hotel', u'\\nHilton_Boston_Back_Bay', u'\\nThe_Langham,_Boston', u'\\nW_Boston', u'\\nInterContinental_Boston', u'\\nResidence_Inn_Boston_Back_Bay_/_Fenway', u\"\\nMarriott's_Custom_House\", u'\\nHarborside_Inn', u'\\nThe_Midtown_Hotel', u'\\nHoliday_Inn_Express_Boston', u'\\nOmni_Parker_House', u'\\nBoston_Park_Plaza', u'\\nThe_Liberty_Hotel', u'\\nThe_Verb_Hotel', u'\\nMillennium_Bostonian_Hotel', u'\\nLoews_Boston_Hotel', u'\\nThe_Fairmont_Copley_Plaza,_Boston', u'\\nCopley_Square_Hotel', u'\\nEmbassy_Suites_Boston_Logan_Airport', u'\\nTaj_Boston']\n",
        "\n",
        "Seaport_Boston_Hotel\n"
       ]
      },
      {
       "ename": "TypeError",
       "evalue": "'NoneType' object has no attribute '__getitem__'",
       "output_type": "pyerr",
       "traceback": [
        "\u001b[1;31m---------------------------------------------------------------------------\u001b[0m\n\u001b[1;31mTypeError\u001b[0m                                 Traceback (most recent call last)",
        "\u001b[1;32m<ipython-input-149-a3eafe73d960>\u001b[0m in \u001b[0;36m<module>\u001b[1;34m()\u001b[0m\n\u001b[0;32m     12\u001b[0m \u001b[1;33m\u001b[0m\u001b[0m\n\u001b[0;32m     13\u001b[0m \u001b[1;32mfor\u001b[0m \u001b[0mn\u001b[0m \u001b[1;32min\u001b[0m \u001b[0mrange\u001b[0m\u001b[1;33m(\u001b[0m\u001b[0mlen\u001b[0m\u001b[1;33m(\u001b[0m\u001b[0mhotel_list\u001b[0m\u001b[1;33m)\u001b[0m\u001b[1;33m)\u001b[0m\u001b[1;33m:\u001b[0m\u001b[1;33m\u001b[0m\u001b[0m\n\u001b[1;32m---> 14\u001b[1;33m     \u001b[0mget_hotel_page\u001b[0m\u001b[1;33m(\u001b[0m\u001b[1;34m\"BOSTON\"\u001b[0m\u001b[1;33m,\u001b[0m\u001b[1;34m\"MA\"\u001b[0m\u001b[1;33m,\u001b[0m\u001b[1;34m'data/'\u001b[0m\u001b[1;33m,\u001b[0m\u001b[0mhotel_list\u001b[0m\u001b[1;33m[\u001b[0m\u001b[0mn\u001b[0m\u001b[1;33m]\u001b[0m\u001b[1;33m,\u001b[0m\u001b[0minput_url\u001b[0m\u001b[1;33m)\u001b[0m\u001b[1;33m\u001b[0m\u001b[0m\n\u001b[0m",
        "\u001b[1;32m<ipython-input-148-ad401d372cb1>\u001b[0m in \u001b[0;36mget_hotel_page\u001b[1;34m(city, state, datadir, hotelname, input_url)\u001b[0m\n\u001b[0;32m     39\u001b[0m     \u001b[1;31m#div  = soup.find(\"div\",{\"class\": \"listing_title\"})\u001b[0m\u001b[1;33m\u001b[0m\u001b[1;33m\u001b[0m\u001b[0m\n\u001b[0;32m     40\u001b[0m     \u001b[0mcity_url\u001b[0m \u001b[1;33m=\u001b[0m \u001b[0msoup\u001b[0m\u001b[1;33m.\u001b[0m\u001b[0mfind\u001b[0m\u001b[1;33m(\u001b[0m\u001b[1;34m'a'\u001b[0m\u001b[1;33m,\u001b[0m \u001b[0mhref\u001b[0m\u001b[1;33m=\u001b[0m\u001b[0mhotelname\u001b[0m\u001b[1;33m)\u001b[0m\u001b[1;33m\u001b[0m\u001b[0m\n\u001b[1;32m---> 41\u001b[1;33m     \u001b[1;32mreturn\u001b[0m \u001b[0mcity_url\u001b[0m\u001b[1;33m[\u001b[0m\u001b[1;34m'href'\u001b[0m\u001b[1;33m]\u001b[0m\u001b[1;33m\u001b[0m\u001b[0m\n\u001b[0m\u001b[0;32m     42\u001b[0m \u001b[1;33m\u001b[0m\u001b[0m\n\u001b[0;32m     43\u001b[0m \u001b[0minput_url\u001b[0m \u001b[1;33m=\u001b[0m \u001b[0mget_city_page\u001b[0m\u001b[1;33m(\u001b[0m\u001b[1;34m\"BOSTON\"\u001b[0m\u001b[1;33m,\u001b[0m \u001b[1;34m\"MA\"\u001b[0m\u001b[1;33m,\u001b[0m \u001b[0mdatadir\u001b[0m\u001b[1;33m=\u001b[0m\u001b[1;34m'data/'\u001b[0m\u001b[1;33m)\u001b[0m\u001b[1;33m\u001b[0m\u001b[0m\n",
        "\u001b[1;31mTypeError\u001b[0m: 'NoneType' object has no attribute '__getitem__'"
       ]
      }
     ],
     "prompt_number": 149
    },
    {
     "cell_type": "code",
     "collapsed": false,
     "input": [],
     "language": "python",
     "metadata": {},
     "outputs": [],
     "prompt_number": 31
    },
    {
     "cell_type": "code",
     "collapsed": false,
     "input": [],
     "language": "python",
     "metadata": {},
     "outputs": [
      {
       "output_type": "stream",
       "stream": "stdout",
       "text": [
        "\f",
        "\n"
       ]
      }
     ],
     "prompt_number": 70
    },
    {
     "cell_type": "code",
     "collapsed": false,
     "input": [],
     "language": "python",
     "metadata": {},
     "outputs": []
    },
    {
     "cell_type": "code",
     "collapsed": false,
     "input": [
      "# Code for setting the style of the notebook\n",
      "from IPython.core.display import HTML\n",
      "def css_styling():\n",
      "    styles = open(\"../../theme/custom.css\", \"r\").read()\n",
      "    return HTML(styles)\n",
      "css_styling()"
     ],
     "language": "python",
     "metadata": {},
     "outputs": [
      {
       "html": [
        "<link href='http://fonts.googleapis.com/css?family=EB+Garamond' rel='stylesheet' type='text/css'>\n",
        "<link href='http://fonts.googleapis.com/css?family=Alegreya+Sans:100,300,400,500,700,800,900,100italic,300italic,400italic,500italic,700italic,800italic,900italic' rel='stylesheet' type='text/css'>\n",
        "<link href='http://fonts.googleapis.com/css?family=Source+Code+Pro:300,400' rel='stylesheet' type='text/css'>\n",
        "<style>\n",
        "    @font-face {\n",
        "        font-family: \"Computer Modern\";\n",
        "        src: url('http://mirrors.ctan.org/fonts/cm-unicode/fonts/otf/cmunss.otf');\n",
        "    }\n",
        "    .code_cell {\n",
        "        width: 105ex !important ;\n",
        "        margin-bottom: 15px !important;\n",
        "    }\n",
        "    div.cell {\n",
        "        margin-left: auto;\n",
        "        margin-right: auto;\n",
        "        width: 70%;\n",
        "    }    \n",
        "    div.cell.selected {\n",
        "        border: thin rgba(171, 171, 171, 0.5) dashed;\n",
        "    }\n",
        "    h1 {\n",
        "        font-family: 'Alegreya Sans', sans-serif;\n",
        "    }\n",
        "    h2 {\n",
        "        font-family: 'EB Garamond', serif;\n",
        "    }\n",
        "    h3 {\n",
        "        font-family: 'EB Garamond', serif;\n",
        "        margin-top:12px;\n",
        "        margin-bottom: 3px;\n",
        "    }\n",
        "    h4 {\n",
        "        font-family: 'EB Garamond', serif;\n",
        "    }\n",
        "    h5 {\n",
        "        font-family: 'Alegreya Sans', sans-serif;\n",
        "    }\n",
        "    div.text_cell_render {\n",
        "        font-family: 'EB Garamond',Computer Modern, \"Helvetica Neue\", Arial, Helvetica, Geneva, sans-serif;\n",
        "        line-height: 145%;\n",
        "        font-size: 140%;\n",
        "    }\n",
        "    div.input_area {\n",
        "        border-color: rgba(0,0,0,0.10) !important;\n",
        "        background: #fafafa;\n",
        "    }\n",
        "    .CodeMirror {\n",
        "            font-family: \"Source Code Pro\";\n",
        "            font-size: 90%;\n",
        "    }\n",
        "    .prompt {\n",
        "        display: None;\n",
        "    }\n",
        "    .output {\n",
        "        padding-left: 50px;\n",
        "        padding-top: 5px;\n",
        "    }\n",
        "    .output_wrapper {\n",
        "        padding-left: 5px;\n",
        "        padding-top: inherit;\n",
        "    }\n",
        "    div.output_scroll {\n",
        "        width: inherit;\n",
        "    }\n",
        "    .inner_cell {\n",
        "        padding-left: 5px;\n",
        "    }\n",
        "    .text_cell_render h1 {\n",
        "        font-weight: 200;\n",
        "        font-size: 50pt;\n",
        "        line-height: 100%;\n",
        "        color:#CD2305;\n",
        "        margin-bottom: 0.5em;\n",
        "        margin-top: 0.5em;\n",
        "        display: block;\n",
        "    }\n",
        "    .text_cell_render h5 {\n",
        "        font-weight: 300;\n",
        "        font-size: 16pt;\n",
        "        color: #CD2305;\n",
        "        font-style: italic;\n",
        "        margin-bottom: .5em;\n",
        "        margin-top: 0.5em;\n",
        "        display: block;\n",
        "    }\n",
        "    .warning {\n",
        "        color: rgb( 240, 20, 20 )\n",
        "        }  \n",
        "</style>\n",
        "<script>\n",
        "    MathJax.Hub.Config({\n",
        "                        TeX: {\n",
        "                           extensions: [\"AMSmath.js\"]\n",
        "                           },\n",
        "                tex2jax: {\n",
        "                    inlineMath: [ ['$','$'], [\"\\\\(\",\"\\\\)\"] ],\n",
        "                    displayMath: [ ['$$','$$'], [\"\\\\[\",\"\\\\]\"] ]\n",
        "                },\n",
        "                displayAlign: 'center', // Change this to 'center' to center equations.\n",
        "                \"HTML-CSS\": {\n",
        "                    styles: {'.MathJax_Display': {\"margin\": 4}}\n",
        "                }\n",
        "        });\n",
        "</script>"
       ],
       "metadata": {},
       "output_type": "pyout",
       "prompt_number": 2,
       "text": [
        "<IPython.core.display.HTML at 0x3a6e978>"
       ]
      }
     ],
     "prompt_number": 2
    }
   ],
   "metadata": {}
  }
 ]
}